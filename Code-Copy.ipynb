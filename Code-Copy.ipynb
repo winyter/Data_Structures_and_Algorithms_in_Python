{
 "cells": [
  {
   "cell_type": "markdown",
   "metadata": {},
   "source": [
    "# Chapter 2"
   ]
  },
  {
   "cell_type": "markdown",
   "metadata": {},
   "source": [
    "## Code 2-1&2-2"
   ]
  },
  {
   "cell_type": "code",
   "execution_count": 11,
   "metadata": {},
   "outputs": [],
   "source": [
    "class CreditCard:\n",
    "    \"\"\" A consumer credit card. \"\"\"\n",
    "    \n",
    "    def __init__(self, customer, bank, acnt, limit):\n",
    "        \"\"\" Create a new credit card instance. \n",
    "        \n",
    "        The initial balance is zero.\n",
    "        \n",
    "        customer  the name of the customer (e.g., 'John Bowman')\n",
    "        bank      the name of the bank (e.g., 'California Savings')\n",
    "        acnt      the acount identifier (e.g., '5391 0375 9387 5309')\n",
    "        limit     Credit limit (measured in dollars)\n",
    "        \"\"\"\n",
    "        \n",
    "        self._customer = customer\n",
    "        self._bank = bank\n",
    "        self._account = acnt\n",
    "        self._limit = limit\n",
    "        self._balance = 0\n",
    "        \n",
    "    def get_customer(self):\n",
    "        \"\"\" Return name of the customer.\"\"\"\n",
    "        return self._customer\n",
    "    \n",
    "    def get_bank(self):\n",
    "        \"\"\" Return the bank's name. \"\"\"\n",
    "        return self._bank\n",
    "    \n",
    "    def get_account(self):\n",
    "        \"\"\" Return the card identifying number (typically stored as a string).\"\"\"\n",
    "        return self._account\n",
    "    \n",
    "    def get_limit(self):\n",
    "        \"\"\" Return current credit limit. \"\"\"\n",
    "        return self._limit\n",
    "    \n",
    "    def get_balance(self):\n",
    "        \"\"\" Return current balance. \"\"\"\n",
    "        return self._balance\n",
    "    \n",
    "    def charge(self, price):\n",
    "        \"\"\" Charge given price to the card, assuming sufficient credit limit.\n",
    "\n",
    "        Return True if charge wasprocessed; False if charge wasdenied.\n",
    "        \"\"\"\n",
    "\n",
    "        if price + self._balance > self._limit:      # if charge would exceed limit.\n",
    "            return False                             # cannot accept charge\n",
    "        else:\n",
    "            self._balance += price\n",
    "            return True\n",
    "    \n",
    "    def make_payment(self, amount):\n",
    "        \"\"\" Process customer payment that reduces balance. \"\"\"\n",
    "        self._balance -= amount"
   ]
  },
  {
   "cell_type": "markdown",
   "metadata": {},
   "source": [
    "## Code 2-3"
   ]
  },
  {
   "cell_type": "code",
   "execution_count": 14,
   "metadata": {},
   "outputs": [
    {
     "name": "stdout",
     "output_type": "stream",
     "text": [
      "Customer =  John Bowman\n",
      "Bank =  California Savings\n",
      "Account =  5391 0375 9387 5309\n",
      "Limit =  2500\n",
      "Balance =  136\n",
      "New balance =  36\n",
      "\n",
      "Customer =  John Bowman\n",
      "Bank =  California Federal\n",
      "Account =  3485 0399 3395 1954\n",
      "Limit =  3500\n",
      "Balance =  272\n",
      "New balance =  172\n",
      "New balance =  72\n",
      "\n",
      "Customer =  John bowman\n",
      "Bank =  California Finance\n",
      "Account =  5391 0375 9387 5309\n",
      "Limit =  5000\n",
      "Balance =  408\n",
      "New balance =  308\n",
      "New balance =  208\n",
      "New balance =  108\n",
      "New balance =  8\n",
      "\n"
     ]
    }
   ],
   "source": [
    "if __name__ == '__main__':\n",
    "    wallet = []\n",
    "    wallet.append(CreditCard('John Bowman', 'California Savings', '5391 0375 9387 5309', 2500))\n",
    "    wallet.append(CreditCard('John Bowman', 'California Federal', '3485 0399 3395 1954', 3500))\n",
    "    wallet.append(CreditCard('John bowman', 'California Finance', '5391 0375 9387 5309', 5000))\n",
    "    \n",
    "    for val in range(1, 17):\n",
    "        wallet[0].charge(val)\n",
    "        wallet[1].charge(2*val)\n",
    "        wallet[2].charge(3*val)\n",
    "    \n",
    "    for c in range(3):\n",
    "        print('Customer = ', wallet[c].get_customer())\n",
    "        print('Bank = ', wallet[c].get_bank())\n",
    "        print('Account = ', wallet[c].get_account())\n",
    "        print('Limit = ', wallet[c].get_limit())\n",
    "        print('Balance = ', wallet[c].get_balance())\n",
    "        while wallet[c].get_balance() > 100:\n",
    "            wallet[c].make_payment(100)\n",
    "            print('New balance = ', wallet[c].get_balance())\n",
    "        print()"
   ]
  },
  {
   "cell_type": "markdown",
   "metadata": {},
   "source": [
    "## Code 2-4"
   ]
  },
  {
   "cell_type": "code",
   "execution_count": 16,
   "metadata": {},
   "outputs": [],
   "source": [
    "class Vector:\n",
    "    \"\"\" Represent a vector in a multidimensional space. \"\"\"\n",
    "    \n",
    "    def __init__(self, d):\n",
    "        \"\"\" Create d-dimensional vector of zeros. \"\"\"\n",
    "        self._coords = [0] * d\n",
    "    \n",
    "    def __len__(self):\n",
    "        \"\"\"Return the dimension of the vector. \"\"\"\n",
    "        return len(self._coords)\n",
    "    \n",
    "    def __getitem__(self, j):\n",
    "        \"\"\" Return jth coordinate of vector. \"\"\"\n",
    "        return self._coords[j]\n",
    "    \n",
    "    def __setitem__(self, j, val):\n",
    "        \"\"\" Set jth coordinate of vector to given value. \"\"\"\n",
    "        self._coords[j] = val\n",
    "        \n",
    "    def __add__(self, other):\n",
    "        \"\"\" Return sum of two vectors. \"\"\"\n",
    "        if len(self) != len(other):        # relies on __len__ method\n",
    "            raise ValueError('dimensions must agree')\n",
    "        result = Vector(len(self))\n",
    "        for j in range(len(self)):\n",
    "            result[j] = self[j] + other[j]\n",
    "        return result\n",
    "    \n",
    "    def __eq__(self, other):\n",
    "        \"\"\" Return True if vector has same coordinates as other. \"\"\"\n",
    "        return self.__coords == other._coords\n",
    "    \n",
    "    def __ne__(self, other):\n",
    "        \"\"\" Return True if vector differs from other. \"\"\"\n",
    "        return not self == other           # rely on existing _eq__ definition\n",
    "    \n",
    "    def __str__(self):\n",
    "        \"\"\" produce string representation of vector.\"\"\"\n",
    "        return '<' + str(self._coords)[1:-1] + '>'   # adapt list representation"
   ]
  },
  {
   "cell_type": "markdown",
   "metadata": {},
   "source": [
    "## Code 2-5"
   ]
  },
  {
   "cell_type": "code",
   "execution_count": 17,
   "metadata": {},
   "outputs": [],
   "source": [
    "class SequenceIterator:\n",
    "    \"\"\" An iterator for any of Python's sequence types. \"\"\"\n",
    "    \n",
    "    def __init__(self, sequence):\n",
    "        \"\"\" Create an iterator for the given sequence. \"\"\"\n",
    "        self._seq - sequence           # keep areference to the underlying data\n",
    "        self._k = -1                   # will increment to 0 on first call to next\n",
    "        \n",
    "    def __next__(self):\n",
    "        \"\"\" Return the next element, or else raise StopIteration error. \"\"\"\n",
    "        self._k += 1                   # advance to next index\n",
    "        if self._k < len(self._seq):\n",
    "            return(self._seq[self._k]) # return the data element\n",
    "        else:\n",
    "            raise StopIteration()      # there are no more elements\n",
    "            \n",
    "    def __iter__(slef):\n",
    "        \"\"\" By convention, an iterator must reutrn itself as an iterator. \"\"\"\n",
    "        return self"
   ]
  },
  {
   "cell_type": "markdown",
   "metadata": {},
   "source": [
    "## Code 2-6"
   ]
  },
  {
   "cell_type": "code",
   "execution_count": 18,
   "metadata": {},
   "outputs": [],
   "source": [
    "class Range:\n",
    "    \"\"\" A class that mimic's the built-in range class. \"\"\"\n",
    "    \n",
    "    def __init__(self, start, stop=None, step=1):\n",
    "        \"\"\" Initialize a Range instance. \n",
    "        \n",
    "        Semantics is similar to built-in range class.\n",
    "        \"\"\"\n",
    "        if step == 0:\n",
    "            raise ValueError('step connot be 0')\n",
    "        \n",
    "        if stop is None:                                  # special case of range(n)\n",
    "            start, stop = 0, start                        # should be treated as if range(0, n)\n",
    "            \n",
    "        # calculate the effective length once\n",
    "        self._length = max(0, (stop - start + step -1) // step)\n",
    "        \n",
    "        # need knowledge of start and step (but not stop) to support __getitem__\n",
    "        self._start = start\n",
    "        self._step = step\n",
    "        \n",
    "        def __len__(self):\n",
    "            \"\"\" Return number of entries in the range. \"\"\"\n",
    "            return self._length\n",
    "        \n",
    "        def __getitem__(self, k):\n",
    "            \"\"\" Return entry at index k (useing standard interpretation if negative). \"\"\"\n",
    "            if k < 0:\n",
    "                k += len(self)                             # attempt to convert negative index\n",
    "                \n",
    "            if not 0 <= k < self._length:\n",
    "                raise IndexError('index out of range')\n",
    "                \n",
    "            return self._start + k * self._step"
   ]
  },
  {
   "cell_type": "markdown",
   "metadata": {},
   "source": [
    "## Code 2-7"
   ]
  },
  {
   "cell_type": "code",
   "execution_count": 21,
   "metadata": {},
   "outputs": [],
   "source": [
    "class PredatoryCreditCard(CreditCard):\n",
    "    \"\"\" An extension to CreditCard that compounds interest and fees. \"\"\"\n",
    "    \n",
    "    def __init__(self, customer, bank, acnt, limit, apr):\n",
    "        \"\"\" Create a new predatory credit card instance.\n",
    "        \n",
    "        The initial balance is zero.\n",
    "        \n",
    "        customer  the name of the customer (e.g., 'John Bowman')\n",
    "        bank      the name of the bank (e.g., 'california Savings')\n",
    "        acnt      the acount identifier (e.g., '5391 0375 9387 5309')\n",
    "        limit     credit limit (measured in dollars)\n",
    "        apr       annual percentage rate (e.g., 0.0825 for 8.25% APR)\n",
    "        \"\"\"\n",
    "        \n",
    "        super().__init__(customer, bank, acnt, limit)     # call super constructor\n",
    "        self._apr = apr\n",
    "        \n",
    "    def charge(self, price):\n",
    "        \"\"\" Charge given price to the card, assuming sufficient credit limit.\n",
    "\n",
    "        Return True if charge was processed.\n",
    "        Return False and assess %5 fee if charge is denied.\n",
    "        \"\"\"\n",
    "\n",
    "        success = super().charge(price)               # call inherited method\n",
    "        if not success:\n",
    "            self._balance += 5                        # assess penalty\n",
    "        return success                                # caller expects return  value\n",
    "\n",
    "    def process_month(self):\n",
    "        \"\"\" Assess monthly interest on outstanding balance.\"\"\"\n",
    "        if self._balance > 0:\n",
    "            # if positive balance, convert APR to monthly multiplicative factor\n",
    "            monthly_factor = pow(1 + self._apr, 1/12)\n",
    "            self._balance *= monthly_factor"
   ]
  },
  {
   "cell_type": "code",
   "execution_count": null,
   "metadata": {},
   "outputs": [],
   "source": []
  },
  {
   "cell_type": "code",
   "execution_count": null,
   "metadata": {},
   "outputs": [],
   "source": [
    "class Progression:\n",
    "    \"\"\" Iterator producing a generic progression.\n",
    "    \n",
    "    Default iterator produces the whole numbers 0,1,2...\n",
    "    \"\"\"\n",
    "    \n",
    "    def __init__(self, start-0):\n",
    "        \"\"\" Initialize current to the first value of the progression.\"\"\"\n",
    "        self._current = start\n",
    "    \n",
    "    def._advance(self):\n",
    "        \"\"\"Update self._current to a new value.\n",
    "        \n",
    "        This should be overridden by a subclass to customize progression. \"\"\"\n",
    "        "
   ]
  }
 ],
 "metadata": {
  "kernelspec": {
   "display_name": "Python 3",
   "language": "python",
   "name": "python3"
  },
  "language_info": {
   "codemirror_mode": {
    "name": "ipython",
    "version": 3
   },
   "file_extension": ".py",
   "mimetype": "text/x-python",
   "name": "python",
   "nbconvert_exporter": "python",
   "pygments_lexer": "ipython3",
   "version": "3.7.3"
  }
 },
 "nbformat": 4,
 "nbformat_minor": 2
}
