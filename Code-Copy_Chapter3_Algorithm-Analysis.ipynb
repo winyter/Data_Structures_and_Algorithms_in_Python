{
 "cells": [
  {
   "cell_type": "markdown",
   "metadata": {},
   "source": [
    "# Chapter 3   算法分析"
   ]
  },
  {
   "cell_type": "markdown",
   "metadata": {},
   "source": [
    "---"
   ]
  },
  {
   "cell_type": "markdown",
   "metadata": {},
   "source": [
    "## 绘制 7 种常用函数"
   ]
  },
  {
   "cell_type": "code",
   "execution_count": 3,
   "metadata": {},
   "outputs": [
    {
     "name": "stderr",
     "output_type": "stream",
     "text": [
      "/opt/anaconda3/lib/python3.7/site-packages/ipykernel_launcher.py:7: RuntimeWarning: divide by zero encountered in log2\n",
      "  import sys\n",
      "/opt/anaconda3/lib/python3.7/site-packages/ipykernel_launcher.py:9: RuntimeWarning: divide by zero encountered in log2\n",
      "  if __name__ == '__main__':\n",
      "/opt/anaconda3/lib/python3.7/site-packages/ipykernel_launcher.py:9: RuntimeWarning: invalid value encountered in multiply\n",
      "  if __name__ == '__main__':\n"
     ]
    },
    {
     "data": {
      "image/png": "[encoded data removed]",
      "text/plain": [
       "<Figure size 432x288 with 1 Axes>"
      ]
     },
     "metadata": {
      "needs_background": "light"
     },
     "output_type": "display_data"
    }
   ],
   "source": [
    "import matplotlib.pyplot as plt\n",
    "import numpy as np\n",
    "import math\n",
    "\n",
    "x = np.arange(0, 3, 0.1)\n",
    "y_constant = [1 for _ in x]\n",
    "y_log = np.log2(x)\n",
    "y_linear = x\n",
    "y_nlog = x * np.log2(x)\n",
    "y_quadratic = x * x\n",
    "y_cubic = x ** 3\n",
    "y_exponential = 2 ** x\n",
    "\n",
    "#plt.ylim(0, 10**10)\n",
    "\n",
    "plt.plot(x, y_constant, color = 'r', label = 'constant')\n",
    "plt.plot(x, y_log, color = 'b', label = 'log')\n",
    "plt.plot(x, y_linear, color = 'y', label = 'linear')\n",
    "plt.plot(x, y_nlog, color = 'g', label = 'nlog')\n",
    "plt.plot(x, y_quadratic, '--', color = 'r', label = 'quadratic')\n",
    "plt.plot(x, y_cubic, '--', color = 'b', label = 'cubic')\n",
    "plt.plot(x, y_exponential, '--', color = 'y', label = 'exponential')\n",
    "\n",
    "plt.legend(loc = 'best')\n",
    "\n",
    "plt.show()"
   ]
  },
  {
   "cell_type": "markdown",
   "metadata": {},
   "source": [
    "## 计算前缀平均值"
   ]
  },
  {
   "cell_type": "markdown",
   "metadata": {},
   "source": [
    "给出一个包含 n 个数的序列 S ，我们想计算出序列 A，满足当 j=0,...,n 时，A[j] 是 S[0],...,S[j]的平均值，即：\n",
    "\n",
    "$$ A[j] = \\frac{\\sum^{j}_{i = 0}{S[j]}}{j+1} $$"
   ]
  },
  {
   "cell_type": "markdown",
   "metadata": {},
   "source": [
    "### Code 3-2  二次-时间算法 prefix_average1"
   ]
  },
  {
   "cell_type": "code",
   "execution_count": 4,
   "metadata": {},
   "outputs": [],
   "source": [
    "def prefix_average1(S):\n",
    "    \"\"\" Return list such that, for all j, A[j] equals average of S[0],...,S[j]\"\"\"\n",
    "    n = len(S)\n",
    "    A = [0] * n                # create new list of n zeros\n",
    "    for j in range(n):\n",
    "        total = 0\n",
    "        for i in range(j +1):\n",
    "            total += S[i]\n",
    "        A[j] = total /(j+1)\n",
    "    return A"
   ]
  },
  {
   "cell_type": "markdown",
   "metadata": {},
   "source": [
    "有两层嵌套循环\n",
    "\n",
    "运行时间：$O(n^2)$"
   ]
  },
  {
   "cell_type": "markdown",
   "metadata": {},
   "source": [
    "### Code 3-3 prefix_average2"
   ]
  },
  {
   "cell_type": "code",
   "execution_count": 5,
   "metadata": {},
   "outputs": [],
   "source": [
    "def prefix_average2(S):\n",
    "    \"\"\" Return list such that, for all j, A[j] equals averages of S[0],...,S[j]\"\"\"\n",
    "    n = len(S)\n",
    "    A = [0] * n\n",
    "    for j in range(n):\n",
    "        A[j] = sum(S[0:j+1]) / (j+1)\n",
    "    return A"
   ]
  },
  {
   "cell_type": "markdown",
   "metadata": {},
   "source": [
    "虽然只有一层循环，但实际上，循环内的 sum 调用了求和函数，并且这个函数的运行时间很明显是 $O(j+1)$ \n",
    "\n",
    "因此，该算法运行时间亦是：$O(n^2)$"
   ]
  },
  {
   "cell_type": "markdown",
   "metadata": {},
   "source": [
    "### Code 3-4 线性时间算法 prefix_average3"
   ]
  },
  {
   "cell_type": "code",
   "execution_count": 6,
   "metadata": {},
   "outputs": [],
   "source": [
    "def prefix_average3(S):\n",
    "    \"\"\" Return list such that, for all j, A[j] equals average of S[0],...,S[j]\"\"\"\n",
    "    n = len(S)\n",
    "    A = [0] * n\n",
    "    total = 0\n",
    "    for j in range(n):\n",
    "        total += S[j]               # update prefix sum to include S[j]\n",
    "        A[j] = total / (j+1)        # compute averhae based on current sum\n",
    "    return A"
   ]
  },
  {
   "cell_type": "markdown",
   "metadata": {},
   "source": [
    "前两个算法每次计算平均值前， 都对 S[0]-S[j] 的和进行了重新计算，而这个算法中，采用了动态规划的概念，每次都会存储和值，下次计算时，直接将上一次循环的存储和值加上新的 S[j] 即可\n",
    "\n",
    "因而，运行时间为：$O(n)$"
   ]
  },
  {
   "cell_type": "markdown",
   "metadata": {},
   "source": [
    "## 三集不相交"
   ]
  },
  {
   "cell_type": "markdown",
   "metadata": {},
   "source": [
    "### Code 3-5 disjoint1 测试三集不相交"
   ]
  },
  {
   "cell_type": "code",
   "execution_count": 7,
   "metadata": {},
   "outputs": [],
   "source": [
    "def disjoint1(A, B, C):\n",
    "    \"\"\" Return True if there is no element common to all three lists.\"\"\"\n",
    "    for a in A:\n",
    "        for b in B:\n",
    "            for c in C:\n",
    "                if a == b == c:\n",
    "                    return False\n",
    "    return True"
   ]
  },
  {
   "cell_type": "markdown",
   "metadata": {},
   "source": [
    "运行时间：$O(n^3)$"
   ]
  },
  {
   "cell_type": "markdown",
   "metadata": {},
   "source": [
    "### Code 3-6 disjoint2 测试三集不相交"
   ]
  },
  {
   "cell_type": "code",
   "execution_count": 8,
   "metadata": {},
   "outputs": [],
   "source": [
    "def disjoint2(A, B, C):\n",
    "    \"\"\"REturn True if there is no element common to all three lists.\"\"\"\n",
    "    for a in A:                          # O(n)\n",
    "        for b in B:                      # O(n^2)\n",
    "            if a == b:                   # O(n^2)，但是，由于 A 和 B 序列内没有重复值，因此，符合 a==b 条件的(a, b)值最多只有 n 个\n",
    "                for c in C:              # O(n^2)\n",
    "                    if a == c:           # O(n^2)\n",
    "                        return False     # O(1)\n",
    "    return True                          # O(1)"
   ]
  },
  {
   "cell_type": "markdown",
   "metadata": {},
   "source": [
    "运行时间：$O(n^2)$"
   ]
  },
  {
   "cell_type": "markdown",
   "metadata": {},
   "source": [
    "## 元素唯一性"
   ]
  },
  {
   "cell_type": "markdown",
   "metadata": {},
   "source": [
    "### Code 3-7 unique1"
   ]
  },
  {
   "cell_type": "code",
   "execution_count": 9,
   "metadata": {},
   "outputs": [],
   "source": [
    "def unique1(S):\n",
    "    \"\"\"Return  True if there are no duplicate element in sequence s.\"\"\"\n",
    "    for j in range(len(S)):\n",
    "        for k in range(j+1, len(S)):\n",
    "            if S[j] == S[k]:\n",
    "                return False\n",
    "    return True"
   ]
  },
  {
   "cell_type": "markdown",
   "metadata": {},
   "source": [
    "运行时间：$O(n^2)$"
   ]
  },
  {
   "cell_type": "markdown",
   "metadata": {},
   "source": [
    "### Code 3-8 以排序作为解决问题的工具 unique2"
   ]
  },
  {
   "cell_type": "code",
   "execution_count": 10,
   "metadata": {},
   "outputs": [],
   "source": [
    "def unique2(S):\n",
    "    \"\"\" Return True fi there are no duplicate element in sequence S.\"\"\"\n",
    "    temp = sorted(S)\n",
    "    for j in range(1, len(temp)):\n",
    "        if temp[j-1] == temp[j]:\n",
    "            return False\n",
    "    return True"
   ]
  },
  {
   "cell_type": "markdown",
   "metadata": {},
   "source": [
    "基于 Python 内置函数：sort 运行时间为：$O(n \\cdot logn)$\n",
    "\n",
    "因此，该算法的运行时间为：$O(n \\cdot logn)$"
   ]
  },
  {
   "cell_type": "code",
   "execution_count": null,
   "metadata": {},
   "outputs": [],
   "source": []
  }
 ],
 "metadata": {
  "kernelspec": {
   "display_name": "Python 3",
   "language": "python",
   "name": "python3"
  },
  "language_info": {
   "codemirror_mode": {
    "name": "ipython",
    "version": 3
   },
   "file_extension": ".py",
   "mimetype": "text/x-python",
   "name": "python",
   "nbconvert_exporter": "python",
   "pygments_lexer": "ipython3",
   "version": "3.7.4"
  }
 },
 "nbformat": 4,
 "nbformat_minor": 2
}
