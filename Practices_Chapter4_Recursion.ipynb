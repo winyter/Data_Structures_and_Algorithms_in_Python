{
 "cells": [
  {
   "cell_type": "markdown",
   "metadata": {},
   "source": [
    "### R-4.1"
   ]
  },
  {
   "cell_type": "code",
   "execution_count": 27,
   "metadata": {},
   "outputs": [],
   "source": [
    "def find_max1(S, n):\n",
    "    \"\"\"Return max item of the sequence S. \"\"\"\n",
    "    if n == 1:\n",
    "        return S[0]\n",
    "    else:\n",
    "        if find_max1(S, n-1) >= S[n-1]:\n",
    "            return find_max1(S, n-1)\n",
    "        else:\n",
    "            return S[n-1]"
   ]
  },
  {
   "cell_type": "code",
   "execution_count": 43,
   "metadata": {},
   "outputs": [
    {
     "data": {
      "text/plain": [
       "8"
      ]
     },
     "execution_count": 43,
     "metadata": {},
     "output_type": "execute_result"
    }
   ],
   "source": [
    "M = [1, 2, 3, 5, 5, 4, 1, 8]\n",
    "find_max1(M, len(M))"
   ]
  },
  {
   "cell_type": "markdown",
   "metadata": {},
   "source": [
    "时间复杂度：$O(n)$  \n",
    "空间复杂度：$O(n)$"
   ]
  },
  {
   "cell_type": "code",
   "execution_count": 44,
   "metadata": {},
   "outputs": [],
   "source": [
    "def find_max2(S):\n",
    "    n = len(S)\n",
    "    if n == 1:\n",
    "        return S[0]\n",
    "    else:\n",
    "        if find_max2(S[:(n//2)]) >= find_max2(S[(n//2):]):\n",
    "            return find_max2(S[:(n//2)])\n",
    "        else:\n",
    "            return find_max2(S[(n//2):])"
   ]
  },
  {
   "cell_type": "code",
   "execution_count": 45,
   "metadata": {},
   "outputs": [
    {
     "data": {
      "text/plain": [
       "8"
      ]
     },
     "execution_count": 45,
     "metadata": {},
     "output_type": "execute_result"
    }
   ],
   "source": [
    "find_max2(M)"
   ]
  },
  {
   "cell_type": "markdown",
   "metadata": {},
   "source": [
    "时间复杂度：$O(n)$  \n",
    "空间复杂度：$O(logn)$"
   ]
  },
  {
   "cell_type": "markdown",
   "metadata": {},
   "source": [
    "### R-4.6"
   ]
  },
  {
   "cell_type": "code",
   "execution_count": 46,
   "metadata": {},
   "outputs": [],
   "source": [
    "def Hn(n):\n",
    "    if n == 1:\n",
    "        return 1\n",
    "    else:\n",
    "        return 1/n + Hn(n-1)"
   ]
  },
  {
   "cell_type": "code",
   "execution_count": 53,
   "metadata": {},
   "outputs": [
    {
     "data": {
      "text/plain": [
       "2.083333333333333"
      ]
     },
     "execution_count": 53,
     "metadata": {},
     "output_type": "execute_result"
    }
   ],
   "source": [
    "Hn(4)"
   ]
  },
  {
   "cell_type": "code",
   "execution_count": 54,
   "metadata": {},
   "outputs": [
    {
     "data": {
      "text/plain": [
       "2.083333333333333"
      ]
     },
     "execution_count": 54,
     "metadata": {},
     "output_type": "execute_result"
    }
   ],
   "source": [
    "1 + 1/2 + 1/3 + 1/4"
   ]
  },
  {
   "cell_type": "markdown",
   "metadata": {},
   "source": [
    "### R-4.7"
   ]
  },
  {
   "cell_type": "code",
   "execution_count": 86,
   "metadata": {},
   "outputs": [],
   "source": [
    "def str_int(s, n):\n",
    "    ls = list(s)\n",
    "    if n == 1:\n",
    "        return (10**(len(ls)-(n))) * int(ls[0])\n",
    "    else:\n",
    "        return (10**(len(ls)-(n))) * int(ls[n-1]) + str_int(s, n-1)"
   ]
  },
  {
   "cell_type": "code",
   "execution_count": 88,
   "metadata": {},
   "outputs": [
    {
     "data": {
      "text/plain": [
       "1234"
      ]
     },
     "execution_count": 88,
     "metadata": {},
     "output_type": "execute_result"
    }
   ],
   "source": [
    "str_int(\"1234\", 4)"
   ]
  },
  {
   "cell_type": "markdown",
   "metadata": {},
   "source": []
  },
  {
   "cell_type": "markdown",
   "metadata": {},
   "source": [
    "---"
   ]
  },
  {
   "cell_type": "markdown",
   "metadata": {},
   "source": [
    "### C-4.9"
   ]
  },
  {
   "cell_type": "code",
   "execution_count": 89,
   "metadata": {},
   "outputs": [],
   "source": [
    "# 见 C-4.1"
   ]
  },
  {
   "cell_type": "markdown",
   "metadata": {},
   "source": [
    "### C-4.10"
   ]
  },
  {
   "cell_type": "code",
   "execution_count": 108,
   "metadata": {},
   "outputs": [],
   "source": [
    "def log_int(n):\n",
    "    if n == 1:\n",
    "        return 0\n",
    "    else:\n",
    "        return 1 + log_int(n//2)"
   ]
  },
  {
   "cell_type": "code",
   "execution_count": 111,
   "metadata": {},
   "outputs": [
    {
     "data": {
      "text/plain": [
       "6"
      ]
     },
     "execution_count": 111,
     "metadata": {},
     "output_type": "execute_result"
    }
   ],
   "source": [
    "log_int(64)"
   ]
  },
  {
   "cell_type": "code",
   "execution_count": 112,
   "metadata": {},
   "outputs": [
    {
     "data": {
      "text/plain": [
       "6"
      ]
     },
     "execution_count": 112,
     "metadata": {},
     "output_type": "execute_result"
    }
   ],
   "source": [
    "log_int(65)"
   ]
  },
  {
   "cell_type": "code",
   "execution_count": 113,
   "metadata": {},
   "outputs": [
    {
     "data": {
      "text/plain": [
       "5"
      ]
     },
     "execution_count": 113,
     "metadata": {},
     "output_type": "execute_result"
    }
   ],
   "source": [
    "log_int(63)"
   ]
  },
  {
   "cell_type": "markdown",
   "metadata": {},
   "source": [
    "### C-4.11"
   ]
  },
  {
   "cell_type": "code",
   "execution_count": 146,
   "metadata": {},
   "outputs": [],
   "source": [
    "def unique4(S, n):\n",
    "    if n == 1:\n",
    "        return True\n",
    "    else:\n",
    "        if S[n-1] in S[:n-1]:\n",
    "            return False\n",
    "        else:\n",
    "            return (True & unique4(S, n-1))"
   ]
  },
  {
   "cell_type": "code",
   "execution_count": 148,
   "metadata": {},
   "outputs": [
    {
     "data": {
      "text/plain": [
       "True"
      ]
     },
     "execution_count": 148,
     "metadata": {},
     "output_type": "execute_result"
    }
   ],
   "source": [
    "unique4([1,2,3,4], 4)"
   ]
  },
  {
   "cell_type": "code",
   "execution_count": 149,
   "metadata": {},
   "outputs": [
    {
     "data": {
      "text/plain": [
       "[1, 2, 3]"
      ]
     },
     "execution_count": 149,
     "metadata": {},
     "output_type": "execute_result"
    }
   ],
   "source": [
    "a = [1, 2, 3, 4]\n",
    "a[:3]"
   ]
  },
  {
   "cell_type": "markdown",
   "metadata": {},
   "source": [
    "### C-4.12"
   ]
  },
  {
   "cell_type": "code",
   "execution_count": 150,
   "metadata": {},
   "outputs": [],
   "source": [
    "def multi(m, n):\n",
    "    if n == 1:\n",
    "        return m\n",
    "    else:\n",
    "        return m + multi(m, n-1)"
   ]
  },
  {
   "cell_type": "code",
   "execution_count": 152,
   "metadata": {},
   "outputs": [
    {
     "data": {
      "text/plain": [
       "20"
      ]
     },
     "execution_count": 152,
     "metadata": {},
     "output_type": "execute_result"
    }
   ],
   "source": [
    "multi(2, 10)"
   ]
  },
  {
   "cell_type": "markdown",
   "metadata": {},
   "source": [
    "### C-4.14"
   ]
  },
  {
   "cell_type": "code",
   "execution_count": 159,
   "metadata": {},
   "outputs": [],
   "source": [
    "def Hanoi(a, b, c, n):                # a means source, b means target, c means mid\n",
    "    if n == 2:                        # when n = 2, do base case\n",
    "        print(a + \"=>\" + c)\n",
    "        print(a + \"=>\" + b)\n",
    "        print(c + \"=>\" + b)\n",
    "    else:\n",
    "        Hanoi(a, c, b, n-1)           # i want to move (n-1) from a to c, and use b as mid, so that i can move No.n from a to b\n",
    "        print(a + \"=>\" + b)           # move No.n from a to b\n",
    "        Hanoi(c, b, a, n-1)           # move (n-1) from c to b, and use a as mid, so that i can commit the mession"
   ]
  },
  {
   "cell_type": "code",
   "execution_count": 161,
   "metadata": {},
   "outputs": [
    {
     "name": "stdout",
     "output_type": "stream",
     "text": [
      "a=>c\n",
      "a=>b\n",
      "c=>b\n",
      "a=>c\n",
      "b=>a\n",
      "b=>c\n",
      "a=>c\n",
      "a=>b\n",
      "c=>b\n",
      "c=>a\n",
      "b=>a\n",
      "c=>b\n",
      "a=>c\n",
      "a=>b\n",
      "c=>b\n"
     ]
    }
   ],
   "source": [
    "Hanoi('a', 'b', 'c', 4)"
   ]
  },
  {
   "cell_type": "markdown",
   "metadata": {},
   "source": [
    "### C-4.15"
   ]
  },
  {
   "cell_type": "code",
   "execution_count": 270,
   "metadata": {},
   "outputs": [],
   "source": [
    "def subs(l):\n",
    "    if l == []:\n",
    "        return [[]]\n",
    "\n",
    "    x = subs(l[1:])\n",
    "\n",
    "    return x + [[l[0]] + y for y in x]"
   ]
  },
  {
   "cell_type": "code",
   "execution_count": 271,
   "metadata": {},
   "outputs": [
    {
     "data": {
      "text/plain": [
       "[[], [3], [2], [2, 3], [1], [1, 3], [1, 2], [1, 2, 3]]"
      ]
     },
     "execution_count": 271,
     "metadata": {},
     "output_type": "execute_result"
    }
   ],
   "source": [
    "subs([1, 2, 3])"
   ]
  },
  {
   "cell_type": "code",
   "execution_count": 277,
   "metadata": {},
   "outputs": [
    {
     "data": {
      "text/plain": [
       "[[2, 1], [2, 3]]"
      ]
     },
     "execution_count": 277,
     "metadata": {},
     "output_type": "execute_result"
    }
   ],
   "source": [
    "a = [[2] + y for y in [[1], [3]]]\n",
    "a"
   ]
  },
  {
   "cell_type": "code",
   "execution_count": 278,
   "metadata": {},
   "outputs": [
    {
     "data": {
      "text/plain": [
       "[1, 2]"
      ]
     },
     "execution_count": 278,
     "metadata": {},
     "output_type": "execute_result"
    }
   ],
   "source": [
    "[1] + [2]"
   ]
  },
  {
   "cell_type": "markdown",
   "metadata": {},
   "source": [
    "### C-4.16"
   ]
  },
  {
   "cell_type": "code",
   "execution_count": 281,
   "metadata": {},
   "outputs": [
    {
     "data": {
      "text/plain": [
       "'b'"
      ]
     },
     "execution_count": 281,
     "metadata": {},
     "output_type": "execute_result"
    }
   ],
   "source": [
    "a = \"abcd\"\n",
    "a[1]"
   ]
  },
  {
   "cell_type": "code",
   "execution_count": 309,
   "metadata": {},
   "outputs": [],
   "source": [
    "def str_permutation(S, start, stop):\n",
    "    if start >= stop:\n",
    "        return 0\n",
    "    else:\n",
    "        S[start], S[stop-1] = S[stop-1], S[start]\n",
    "        str_permutation(S, start+1, stop-1)\n",
    "        return S\n",
    "    \n",
    "def str_list(S):\n",
    "    Sm = str_permutation(list(S), 0, len(S))\n",
    "    Sr = ''\n",
    "    for i in Sm:\n",
    "        Sr += i\n",
    "    return Sr"
   ]
  },
  {
   "cell_type": "code",
   "execution_count": 310,
   "metadata": {},
   "outputs": [
    {
     "data": {
      "text/plain": [
       "'gfedcba'"
      ]
     },
     "execution_count": 310,
     "metadata": {},
     "output_type": "execute_result"
    }
   ],
   "source": [
    "str_list('abcdefg')"
   ]
  },
  {
   "cell_type": "code",
   "execution_count": 311,
   "metadata": {},
   "outputs": [
    {
     "data": {
      "text/plain": [
       "'snap&stop'"
      ]
     },
     "execution_count": 311,
     "metadata": {},
     "output_type": "execute_result"
    }
   ],
   "source": [
    "str_list('pots&pans')"
   ]
  },
  {
   "cell_type": "markdown",
   "metadata": {},
   "source": [
    "### C-4.17"
   ]
  },
  {
   "cell_type": "code",
   "execution_count": 313,
   "metadata": {},
   "outputs": [],
   "source": [
    "def str_plalindrome(S):\n",
    "    Sp = ''\n",
    "    for i in str_permutation(list(S), 0, len(S)):\n",
    "        Sp += i\n",
    "    print(S)\n",
    "    print(Sp)\n",
    "    if Sp == S:\n",
    "        return True\n",
    "    else:\n",
    "        return False"
   ]
  },
  {
   "cell_type": "code",
   "execution_count": 314,
   "metadata": {},
   "outputs": [
    {
     "name": "stdout",
     "output_type": "stream",
     "text": [
      "abcba\n",
      "abcba\n"
     ]
    },
    {
     "data": {
      "text/plain": [
       "True"
      ]
     },
     "execution_count": 314,
     "metadata": {},
     "output_type": "execute_result"
    }
   ],
   "source": [
    "str_plalindrome('abcba')"
   ]
  },
  {
   "cell_type": "code",
   "execution_count": 315,
   "metadata": {},
   "outputs": [
    {
     "name": "stdout",
     "output_type": "stream",
     "text": [
      "racecar\n",
      "racecar\n"
     ]
    },
    {
     "data": {
      "text/plain": [
       "True"
      ]
     },
     "execution_count": 315,
     "metadata": {},
     "output_type": "execute_result"
    }
   ],
   "source": [
    "str_plalindrome('racecar')"
   ]
  },
  {
   "cell_type": "markdown",
   "metadata": {},
   "source": [
    "### C-4.18"
   ]
  },
  {
   "cell_type": "code",
   "execution_count": 333,
   "metadata": {},
   "outputs": [],
   "source": [
    "def vowel_vs_consonant(S, i):\n",
    "    vovel = ['a', 'e', 'i', 'o', 'u']\n",
    "    if i == 0:\n",
    "        return 0\n",
    "    else:\n",
    "        com_num = vowel_compare_consonant(S, i-1)\n",
    "        if S[i-1] in vovel:\n",
    "            com_num += 1\n",
    "        else:\n",
    "            com_num -= 1\n",
    "        return com_num\n",
    "\n",
    "def compare_result(S):\n",
    "    Sl = list(S)\n",
    "    result_num = vowel_compare_consonant(Sl, len(Sl))\n",
    "    if result_num > 0:\n",
    "        print(\"vowel more than consonant\")\n",
    "    elif result_num == 0:\n",
    "        print(\"vowel number equal consonant number\")\n",
    "    else:\n",
    "        print(\"vowel less than consonant\")"
   ]
  },
  {
   "cell_type": "code",
   "execution_count": 331,
   "metadata": {},
   "outputs": [
    {
     "data": {
      "text/plain": [
       "5"
      ]
     },
     "execution_count": 331,
     "metadata": {},
     "output_type": "execute_result"
    }
   ],
   "source": [
    "vowel_compare_consonant(['a','e','i','o','u'], 5)"
   ]
  },
  {
   "cell_type": "code",
   "execution_count": 334,
   "metadata": {},
   "outputs": [
    {
     "name": "stdout",
     "output_type": "stream",
     "text": [
      "vowel more than consonant\n"
     ]
    }
   ],
   "source": [
    "compare_result('aeiou')"
   ]
  },
  {
   "cell_type": "code",
   "execution_count": 335,
   "metadata": {},
   "outputs": [
    {
     "name": "stdout",
     "output_type": "stream",
     "text": [
      "vowel less than consonant\n"
     ]
    }
   ],
   "source": [
    "compare_result('aecdf')"
   ]
  },
  {
   "cell_type": "code",
   "execution_count": 336,
   "metadata": {},
   "outputs": [
    {
     "name": "stdout",
     "output_type": "stream",
     "text": [
      "vowel number equal consonant number\n"
     ]
    }
   ],
   "source": [
    "compare_result('aeicdf')"
   ]
  },
  {
   "cell_type": "markdown",
   "metadata": {},
   "source": [
    "### C-4.19"
   ]
  },
  {
   "cell_type": "code",
   "execution_count": 356,
   "metadata": {},
   "outputs": [],
   "source": [
    "def odd_after_even(S, start, stop):\n",
    "    if stop == len(S):\n",
    "        return 0\n",
    "    else:\n",
    "        if S[start] % 2 == 0:\n",
    "            odd_after_even(S, start+1, stop+1)\n",
    "        \"\"\"\n",
    "        another method:               # 这种方式在算法上，时间复杂度更低，当遇到一连串的偶数时，这种方式将会直接跳过整串偶数，直接定位到第一个奇数\n",
    "        if S[start] % 2 == 0:\n",
    "            if S[stop] % 2 == 1:\n",
    "                odd_after_even(S, stop, stop+1)\n",
    "            else:\n",
    "                odd_after_even(S, start, stop+1)\n",
    "        \"\"\"\n",
    "        else:\n",
    "            if S[stop] % 2 == 0:\n",
    "                S[start], S[stop] = S[stop], S[start]\n",
    "                odd_after_even(S, start+1, stop+1)\n",
    "            else:\n",
    "                odd_after_even(S, start, stop+1)\n",
    "    return S"
   ]
  },
  {
   "cell_type": "code",
   "execution_count": 357,
   "metadata": {},
   "outputs": [
    {
     "data": {
      "text/plain": [
       "[4, 6, 6, 10, 12, 3, 9, 1, 1, 17, 1, 7, 9]"
      ]
     },
     "execution_count": 357,
     "metadata": {},
     "output_type": "execute_result"
    }
   ],
   "source": [
    "odd_after_even([1, 1, 3, 4, 6, 6, 9, 10, 12, 17, 1, 7, 9], 0, 1)"
   ]
  },
  {
   "cell_type": "markdown",
   "metadata": {},
   "source": [
    "思路：  \n",
    "建立两个游标，start 和 stop，开始时，start 和 stop 分别代表序列 S 的 0 和 1 的索引位置，游标会根据不同的情况有不同的改变  \n",
    "那么，会有以下情况：  \n",
    "第一：S[start] 为偶数，这种情况就不需要做任何操作，无论 S[stop] 是奇数还是偶数，我们都保证了偶数在奇数前面，这时候，我们只需要将 start 和 stop 游标各加 1，用来检查下一组数字即可  \n",
    "第二：S[start] 为奇数，这时候，我们就不能保证偶数在奇数前面，但由于 S[start] 这个奇数是整序列 S 里第一个奇数，所以只要将这个奇数与后面的第一个偶数互换位置，就能继续保证偶数在奇数前面，于是，我们检查 S[stop] 的奇偶情况，如果为偶数，那么直接调换位置即可，接着继续执行下面的检查。如果为奇数，那么我们需要增加 stop 的游标量，直到找到 S[start] 后面的第一个偶数。\n"
   ]
  },
  {
   "cell_type": "markdown",
   "metadata": {},
   "source": [
    "### C-4.20"
   ]
  },
  {
   "cell_type": "code",
   "execution_count": 361,
   "metadata": {},
   "outputs": [],
   "source": [
    "def lalala(S, k, start, stop):\n",
    "    if stop == len(S):\n",
    "        return 0\n",
    "    else:\n",
    "        if S[start] <= k:\n",
    "            lalala(S, k, start+1, stop+1)\n",
    "        else:\n",
    "            if S[stop] <= k:\n",
    "                S[start], S[stop] = S[stop], S[start]\n",
    "                lalala(S, k, start+1, stop+1)\n",
    "            else:\n",
    "                lalala(S, k, start, stop+1)\n",
    "    return S"
   ]
  },
  {
   "cell_type": "code",
   "execution_count": 364,
   "metadata": {},
   "outputs": [
    {
     "data": {
      "text/plain": [
       "[3, 2, 1, 6, 5, 4]"
      ]
     },
     "execution_count": 364,
     "metadata": {},
     "output_type": "execute_result"
    }
   ],
   "source": [
    "lalala([6, 5, 4, 3, 2, 1], 3, 0, 1)"
   ]
  },
  {
   "cell_type": "markdown",
   "metadata": {},
   "source": [
    "### C-4.21"
   ]
  },
  {
   "cell_type": "code",
   "execution_count": 401,
   "metadata": {},
   "outputs": [],
   "source": [
    "def balala(S, k, start, stop):\n",
    "    if start == len(S)-1:\n",
    "        return False\n",
    "    else:\n",
    "        #print(\"-> {0}\".format([start, stop]))\n",
    "        #if (S[start] + S[stop]) > k:\n",
    "        #    balala(S, k, start+1, start+2)\n",
    "        if (S[start] + S[stop] != k):\n",
    "            if stop == len(S)-1:\n",
    "                balala(S, k, start+1, start+2)\n",
    "            else:\n",
    "                balala(S, k, start, stop+1)\n",
    "        else:\n",
    "            print([S[start], S[stop]])"
   ]
  },
  {
   "cell_type": "code",
   "execution_count": 404,
   "metadata": {},
   "outputs": [
    {
     "name": "stdout",
     "output_type": "stream",
     "text": [
      "[1, 2]\n"
     ]
    }
   ],
   "source": [
    "balala([1, 2, 3, 4, 5], 3, 0, 1)"
   ]
  },
  {
   "cell_type": "code",
   "execution_count": null,
   "metadata": {},
   "outputs": [],
   "source": []
  },
  {
   "cell_type": "code",
   "execution_count": null,
   "metadata": {},
   "outputs": [],
   "source": []
  }
 ],
 "metadata": {
  "kernelspec": {
   "display_name": "Python 3",
   "language": "python",
   "name": "python3"
  },
  "language_info": {
   "codemirror_mode": {
    "name": "ipython",
    "version": 3
   },
   "file_extension": ".py",
   "mimetype": "text/x-python",
   "name": "python",
   "nbconvert_exporter": "python",
   "pygments_lexer": "ipython3",
   "version": "3.7.4"
  }
 },
 "nbformat": 4,
 "nbformat_minor": 2
}
