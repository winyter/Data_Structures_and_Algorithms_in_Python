{
 "cells": [
  {
   "cell_type": "markdown",
   "metadata": {},
   "source": [
    "# Chapter 1"
   ]
  },
  {
   "cell_type": "markdown",
   "metadata": {},
   "source": [
    "## R-1.1"
   ]
  },
  {
   "cell_type": "code",
   "execution_count": null,
   "metadata": {},
   "outputs": [],
   "source": [
    "def is_multiple(n, m):\n",
    "    try:\n",
    "        if n % m == 0:\n",
    "            return True\n",
    "        else:\n",
    "            return False\n",
    "    except ZeroDivisionError:\n",
    "        print(\"Please input no zero number for m\")"
   ]
  },
  {
   "cell_type": "code",
   "execution_count": null,
   "metadata": {},
   "outputs": [],
   "source": [
    "is_multiple(1, 2)"
   ]
  },
  {
   "cell_type": "code",
   "execution_count": null,
   "metadata": {},
   "outputs": [],
   "source": [
    "is_multiple(1, 0)"
   ]
  },
  {
   "cell_type": "code",
   "execution_count": null,
   "metadata": {},
   "outputs": [],
   "source": [
    "is_multiple(2, 1)"
   ]
  },
  {
   "cell_type": "markdown",
   "metadata": {},
   "source": [
    "## R-1.2"
   ]
  },
  {
   "cell_type": "code",
   "execution_count": null,
   "metadata": {},
   "outputs": [],
   "source": [
    "def is_even(k):\n",
    "    try:\n",
    "        b = bin(k)\n",
    "        if b[-1] == '0':\n",
    "            return True\n",
    "        else:\n",
    "            return False\n",
    "    except Exception as e:\n",
    "        print(e)"
   ]
  },
  {
   "cell_type": "code",
   "execution_count": null,
   "metadata": {},
   "outputs": [],
   "source": [
    "is_even(13)"
   ]
  },
  {
   "cell_type": "code",
   "execution_count": null,
   "metadata": {},
   "outputs": [],
   "source": [
    "is_even(10)"
   ]
  },
  {
   "cell_type": "code",
   "execution_count": null,
   "metadata": {},
   "outputs": [],
   "source": [
    "is_even(a)"
   ]
  },
  {
   "cell_type": "markdown",
   "metadata": {},
   "source": [
    "## R-1.3"
   ]
  },
  {
   "cell_type": "code",
   "execution_count": null,
   "metadata": {},
   "outputs": [],
   "source": [
    "def minmax(data):\n",
    "    max_it = data[0]\n",
    "    min_it = data[0]\n",
    "    for i in range(0, len(data)):\n",
    "        if data[i] > max_it:\n",
    "            max_it = data[i]\n",
    "        if data[i] < min_it:\n",
    "            min_it = data[i]\n",
    "    return (max_it, min_it)"
   ]
  },
  {
   "cell_type": "code",
   "execution_count": null,
   "metadata": {},
   "outputs": [],
   "source": [
    "minmax([1, 3, 5, 2, 4, 6, -1, -9, 10, 100, -2000])"
   ]
  },
  {
   "cell_type": "markdown",
   "metadata": {},
   "source": [
    "## R-1.4"
   ]
  },
  {
   "cell_type": "code",
   "execution_count": null,
   "metadata": {},
   "outputs": [],
   "source": [
    "def quadratic_sum(n):\n",
    "    sum = 0\n",
    "    for i in range(1, n+1):\n",
    "        sum += i*i\n",
    "    return sum"
   ]
  },
  {
   "cell_type": "code",
   "execution_count": null,
   "metadata": {},
   "outputs": [],
   "source": [
    "quadratic_sum(10)"
   ]
  },
  {
   "cell_type": "code",
   "execution_count": null,
   "metadata": {},
   "outputs": [],
   "source": [
    "def quadratic_sum_recursion(n):\n",
    "    if n == 1: return 1\n",
    "    return n * n + quadratic_sum_recursion(n-1)"
   ]
  },
  {
   "cell_type": "code",
   "execution_count": null,
   "metadata": {},
   "outputs": [],
   "source": [
    "quadratic_sum_recursion(10)"
   ]
  },
  {
   "cell_type": "markdown",
   "metadata": {},
   "source": [
    "## R-1.5"
   ]
  },
  {
   "cell_type": "code",
   "execution_count": null,
   "metadata": {},
   "outputs": [],
   "source": [
    "sum1 = sum([i * i for i in range(1, 10)])"
   ]
  },
  {
   "cell_type": "code",
   "execution_count": null,
   "metadata": {},
   "outputs": [],
   "source": [
    "sum1"
   ]
  },
  {
   "cell_type": "markdown",
   "metadata": {},
   "source": [
    "## R-1.6"
   ]
  },
  {
   "cell_type": "code",
   "execution_count": null,
   "metadata": {},
   "outputs": [],
   "source": [
    "def quadratic_sum_odd(n):\n",
    "    s = 0\n",
    "    for i in range(1, n+1):\n",
    "        if i % 2 == 1:\n",
    "            s += i * i\n",
    "            print(s)\n",
    "    return s"
   ]
  },
  {
   "cell_type": "code",
   "execution_count": null,
   "metadata": {},
   "outputs": [],
   "source": [
    "quadratic_sum_odd(10)"
   ]
  },
  {
   "cell_type": "markdown",
   "metadata": {},
   "source": [
    "## R-1.7"
   ]
  },
  {
   "cell_type": "code",
   "execution_count": null,
   "metadata": {},
   "outputs": [],
   "source": [
    "sum2 = sum([i * i for i in range(1, 10) if i % 2 == 1])"
   ]
  },
  {
   "cell_type": "code",
   "execution_count": null,
   "metadata": {},
   "outputs": [],
   "source": [
    "sum2"
   ]
  },
  {
   "cell_type": "markdown",
   "metadata": {},
   "source": [
    "## R-1.8"
   ]
  },
  {
   "cell_type": "code",
   "execution_count": null,
   "metadata": {},
   "outputs": [],
   "source": [
    "s = [1, 2, 3, 4, 5, 6]"
   ]
  },
  {
   "cell_type": "code",
   "execution_count": null,
   "metadata": {},
   "outputs": [],
   "source": [
    "k = -3\n",
    "j = len(s) + k"
   ]
  },
  {
   "cell_type": "code",
   "execution_count": null,
   "metadata": {},
   "outputs": [],
   "source": [
    "s[-3]"
   ]
  },
  {
   "cell_type": "code",
   "execution_count": null,
   "metadata": {},
   "outputs": [],
   "source": [
    "s[j]"
   ]
  },
  {
   "cell_type": "markdown",
   "metadata": {},
   "source": [
    "## R-1.9"
   ]
  },
  {
   "cell_type": "code",
   "execution_count": null,
   "metadata": {},
   "outputs": [],
   "source": [
    "help(range)"
   ]
  },
  {
   "cell_type": "code",
   "execution_count": null,
   "metadata": {},
   "outputs": [],
   "source": [
    "r = list(range(50, 90, 10))"
   ]
  },
  {
   "cell_type": "code",
   "execution_count": null,
   "metadata": {},
   "outputs": [],
   "source": [
    "r"
   ]
  },
  {
   "cell_type": "markdown",
   "metadata": {},
   "source": [
    "## R-1.10"
   ]
  },
  {
   "cell_type": "code",
   "execution_count": null,
   "metadata": {},
   "outputs": [],
   "source": [
    "list(range(-8, 8, 2))"
   ]
  },
  {
   "cell_type": "code",
   "execution_count": null,
   "metadata": {},
   "outputs": [],
   "source": [
    "list(range(8, -8, -2))"
   ]
  },
  {
   "cell_type": "code",
   "execution_count": null,
   "metadata": {},
   "outputs": [],
   "source": [
    "list1 = [2 ** n for n in range(0, 9)]"
   ]
  },
  {
   "cell_type": "code",
   "execution_count": null,
   "metadata": {},
   "outputs": [],
   "source": [
    "list1"
   ]
  },
  {
   "cell_type": "markdown",
   "metadata": {},
   "source": [
    "## R-1.11"
   ]
  },
  {
   "cell_type": "code",
   "execution_count": null,
   "metadata": {},
   "outputs": [],
   "source": [
    "import random"
   ]
  },
  {
   "cell_type": "code",
   "execution_count": null,
   "metadata": {},
   "outputs": [],
   "source": [
    "def my_random_choice(data):\n",
    "    return data[random.randrange(0, len(data))]"
   ]
  },
  {
   "cell_type": "code",
   "execution_count": null,
   "metadata": {},
   "outputs": [],
   "source": [
    "my_random_choice([1, 2, 4, 6])"
   ]
  },
  {
   "cell_type": "markdown",
   "metadata": {},
   "source": [
    "## C-1.13"
   ]
  },
  {
   "cell_type": "code",
   "execution_count": null,
   "metadata": {},
   "outputs": [],
   "source": [
    "def shift_items(n):\n",
    "    for i in range(0, len(n)//2):\n",
    "        n[i], n[-i-1] = n[-i-1], n[i]\n",
    "    return n"
   ]
  },
  {
   "cell_type": "code",
   "execution_count": null,
   "metadata": {},
   "outputs": [],
   "source": [
    "shift_items([5, 2, 3, 4, 6])"
   ]
  },
  {
   "cell_type": "markdown",
   "metadata": {},
   "source": [
    "## C-1.14"
   ]
  },
  {
   "cell_type": "code",
   "execution_count": null,
   "metadata": {},
   "outputs": [],
   "source": [
    "def odd_multiply_diff(data):\n",
    "    odd_list = []\n",
    "    for i in data:\n",
    "        if i % 2 == 1:\n",
    "            odd_list.append(i)\n",
    "    odd_items = set(odd_list)\n",
    "    if len(odd_items) > 1:\n",
    "        return odd_items\n",
    "    else:\n",
    "        return False            "
   ]
  },
  {
   "cell_type": "code",
   "execution_count": null,
   "metadata": {},
   "outputs": [],
   "source": [
    "odd_multiply_diff([1, 2, 4, 5, 5, 5, 1, 6, 6])"
   ]
  },
  {
   "cell_type": "markdown",
   "metadata": {},
   "source": [
    "## C-1.15"
   ]
  },
  {
   "cell_type": "code",
   "execution_count": null,
   "metadata": {},
   "outputs": [],
   "source": [
    "def if_diff(data):\n",
    "    set_data = set(data)\n",
    "    if len(data) == len(set_data):\n",
    "        return True\n",
    "    else:\n",
    "        return False"
   ]
  },
  {
   "cell_type": "code",
   "execution_count": null,
   "metadata": {},
   "outputs": [],
   "source": [
    "if_diff([1, 2, 2, 4, 5])"
   ]
  },
  {
   "cell_type": "code",
   "execution_count": null,
   "metadata": {},
   "outputs": [],
   "source": [
    "if_diff([1, 2, 4])"
   ]
  },
  {
   "cell_type": "markdown",
   "metadata": {},
   "source": [
    " "
   ]
  },
  {
   "cell_type": "markdown",
   "metadata": {},
   "source": []
  },
  {
   "cell_type": "code",
   "execution_count": null,
   "metadata": {},
   "outputs": [],
   "source": []
  },
  {
   "cell_type": "markdown",
   "metadata": {},
   "source": [
    "# Chapter 2"
   ]
  },
  {
   "cell_type": "markdown",
   "metadata": {},
   "source": [
    "## R-2.4"
   ]
  },
  {
   "cell_type": "code",
   "execution_count": null,
   "metadata": {},
   "outputs": [],
   "source": [
    "class Flower:\n",
    "    \"\"\" define a flower class\"\"\"\n",
    "    \n",
    "    def __init__(self):\n",
    "        \"\"\" initial flowers items\n",
    "        \n",
    "        f_name     flower name (e.g., rose)\n",
    "        f_cnt      petal count (e.g., 12)\n",
    "        f_price    flower price (e.g., 10)\n",
    "        \"\"\"\n",
    "        self._fname = 'rose'\n",
    "        self._fcnt = 12\n",
    "        self._fprice = 10\n",
    "        \n",
    "    def get_name(self):\n",
    "        \"\"\" Return flower name. \"\"\"\n",
    "        return self._fname\n",
    "    \n",
    "    def get_cnt(self):\n",
    "        \"\"\" Return petal count. \"\"\"\n",
    "        return self._fcnt\n",
    "    \n",
    "    def get_price(self):\n",
    "        \"\"\" Return flower price. \"\"\"\n",
    "        return self._fprice\n",
    "    \n",
    "    def set_name(self, name):\n",
    "        \"\"\" set flower name. \"\"\"\n",
    "        self._fname = name\n",
    "    \n",
    "    def set_cnt(self, cnt):\n",
    "        \"\"\" set petal count. \"\"\"\n",
    "        self._fcnt = cnt\n",
    "        \n",
    "    def set_price(self, price):\n",
    "        \"\"\" Set flower price. \"\"\"\n",
    "        self._fprice = price"
   ]
  },
  {
   "cell_type": "code",
   "execution_count": null,
   "metadata": {},
   "outputs": [],
   "source": [
    "if __name__ == '__main__':\n",
    "    f = Flower()\n",
    "    print(f.get_name())\n",
    "    f.set_name('haha')\n",
    "    print(f.get_name())"
   ]
  },
  {
   "cell_type": "markdown",
   "metadata": {},
   "source": [
    "## R-2.5"
   ]
  },
  {
   "cell_type": "code",
   "execution_count": null,
   "metadata": {},
   "outputs": [],
   "source": [
    "class CreditCard:\n",
    "    \"\"\" A consumer credit card. \"\"\"\n",
    "    \n",
    "    def __init__(self, customer, bank, acnt, limit):\n",
    "        \"\"\" Create a new credit card instance. \n",
    "        \n",
    "        The initial balance is zero.\n",
    "        \n",
    "        customer  the name of the customer (e.g., 'John Bowman')\n",
    "        bank      the name of the bank (e.g., 'California Savings')\n",
    "        acnt      the acount identifier (e.g., '5391 0375 9387 5309')\n",
    "        limit     Credit limit (measured in dollars)\n",
    "        \"\"\"\n",
    "        \n",
    "        self._customer = customer\n",
    "        self._bank = bank\n",
    "        self._account = acnt\n",
    "        self._limit = limit\n",
    "        self._balance = 0\n",
    "        \n",
    "    def get_customer(self):\n",
    "        \"\"\" Return name of the customer.\"\"\"\n",
    "        return self._customer\n",
    "    \n",
    "    def get_bank(self):\n",
    "        \"\"\" Return the bank's name. \"\"\"\n",
    "        return self._bank\n",
    "    \n",
    "    def get_account(self):\n",
    "        \"\"\" Return the card identifying number (typically stored as a string).\"\"\"\n",
    "        return self._account\n",
    "    \n",
    "    def get_limit(self):\n",
    "        \"\"\" Return current credit limit. \"\"\"\n",
    "        return self._limit\n",
    "    \n",
    "    def get_balance(self):\n",
    "        \"\"\" Return current balance. \"\"\"\n",
    "        return self._balance\n",
    "    \n",
    "    def charge(self, price):\n",
    "        \"\"\" Charge given price to the card, assuming sufficient credit limit.\n",
    "\n",
    "        Return True if charge wasprocessed; False if charge wasdenied.\n",
    "        \"\"\"\n",
    "        if not isinstance(price, (int, float)):\n",
    "            raise TypeError('price must be numeric')\n",
    "        \n",
    "        if price + self._balance > self._limit:      # if charge would exceed limit.\n",
    "            return False                             # cannot accept charge\n",
    "        else:\n",
    "            self._balance += price\n",
    "            return True\n",
    "    \n",
    "    def make_payment(self, amount):\n",
    "        \"\"\" Process customer payment that reduces balance. \"\"\"\n",
    "        \n",
    "        if not isinstance(amount, (int, float)):\n",
    "            raise TypeError('amount must be numeric')\n",
    "        \n",
    "        self._balance -= amount"
   ]
  },
  {
   "cell_type": "code",
   "execution_count": null,
   "metadata": {},
   "outputs": [],
   "source": [
    "if __name__ == '__main__':\n",
    "    wallet = []\n",
    "    wallet.append(CreditCard('John Bowman', 'California Savings', '5391 0375 9387 5309', 2500))\n",
    "    wallet.append(CreditCard('John Bowman', 'California Federal', '3485 0399 3395 1954', 3500))\n",
    "    wallet.append(CreditCard('John bowman', 'California Finance', '5391 0375 9387 5309', 5000))\n",
    "    \n",
    "    for val in range(1, 17):\n",
    "        wallet[0].charge('as')          # -- not number\n",
    "        wallet[1].charge(2*val)\n",
    "        wallet[2].charge(3*val)\n",
    "    \n",
    "    for c in range(3):\n",
    "        print('Customer = ', wallet[c].get_customer())\n",
    "        print('Bank = ', wallet[c].get_bank())\n",
    "        print('Account = ', wallet[c].get_account())\n",
    "        print('Limit = ', wallet[c].get_limit())\n",
    "        print('Balance = ', wallet[c].get_balance())\n",
    "        while wallet[c].get_balance() > 100:\n",
    "            wallet[c].make_payment(100)\n",
    "            print('New balance = ', wallet[c].get_balance())\n",
    "        print()"
   ]
  },
  {
   "cell_type": "markdown",
   "metadata": {},
   "source": [
    "## R-2.6"
   ]
  },
  {
   "cell_type": "code",
   "execution_count": 3,
   "metadata": {},
   "outputs": [],
   "source": [
    "class CreditCard:\n",
    "    \"\"\" A consumer credit card. \"\"\"\n",
    "    \n",
    "    def __init__(self, customer, bank, acnt, limit):\n",
    "        \"\"\" Create a new credit card instance. \n",
    "        \n",
    "        The initial balance is zero.\n",
    "        \n",
    "        customer  the name of the customer (e.g., 'John Bowman')\n",
    "        bank      the name of the bank (e.g., 'California Savings')\n",
    "        acnt      the acount identifier (e.g., '5391 0375 9387 5309')\n",
    "        limit     Credit limit (measured in dollars)\n",
    "        \"\"\"\n",
    "        \n",
    "        self._customer = customer\n",
    "        self._bank = bank\n",
    "        self._account = acnt\n",
    "        self._limit = limit\n",
    "        self._balance = 0\n",
    "        \n",
    "    def get_customer(self):\n",
    "        \"\"\" Return name of the customer.\"\"\"\n",
    "        return self._customer\n",
    "    \n",
    "    def get_bank(self):\n",
    "        \"\"\" Return the bank's name. \"\"\"\n",
    "        return self._bank\n",
    "    \n",
    "    def get_account(self):\n",
    "        \"\"\" Return the card identifying number (typically stored as a string).\"\"\"\n",
    "        return self._account\n",
    "    \n",
    "    def get_limit(self):\n",
    "        \"\"\" Return current credit limit. \"\"\"\n",
    "        return self._limit\n",
    "    \n",
    "    def get_balance(self):\n",
    "        \"\"\" Return current balance. \"\"\"\n",
    "        return self._balance\n",
    "    \n",
    "    def charge(self, price):\n",
    "        \"\"\" Charge given price to the card, assuming sufficient credit limit.\n",
    "\n",
    "        Return True if charge wasprocessed; False if charge wasdenied.\n",
    "        \"\"\"\n",
    "        if not isinstance(price, (int, float)):\n",
    "            raise TypeError('price must be numeric')\n",
    "        \n",
    "        if price + self._balance > self._limit:      # if charge would exceed limit.\n",
    "            return False                             # cannot accept charge\n",
    "        else:\n",
    "            self._balance += price\n",
    "            return True\n",
    "    \n",
    "    def make_payment(self, amount):\n",
    "        \"\"\" Process customer payment that reduces balance. \"\"\"\n",
    "        \n",
    "        if not isinstance(amount, (int, float)):\n",
    "            raise TypeError('amount must be numeric')\n",
    "        elif amount < 0:\n",
    "            raise ValueError('amount must be positive')\n",
    "        \n",
    "        self._balance -= amount"
   ]
  },
  {
   "cell_type": "code",
   "execution_count": 4,
   "metadata": {},
   "outputs": [
    {
     "name": "stdout",
     "output_type": "stream",
     "text": [
      "Customer =  John Bowman\n",
      "Bank =  California Savings\n",
      "Account =  5391 0375 9387 5309\n",
      "Limit =  2500\n",
      "Balance =  136\n"
     ]
    },
    {
     "ename": "ValueError",
     "evalue": "amount must be positive",
     "output_type": "error",
     "traceback": [
      "\u001b[0;31m---------------------------------------------------------------------------\u001b[0m",
      "\u001b[0;31mValueError\u001b[0m                                Traceback (most recent call last)",
      "\u001b[0;32m<ipython-input-4-a9c37fb4b6b7>\u001b[0m in \u001b[0;36m<module>\u001b[0;34m\u001b[0m\n\u001b[1;32m     17\u001b[0m         \u001b[0mprint\u001b[0m\u001b[0;34m(\u001b[0m\u001b[0;34m'Balance = '\u001b[0m\u001b[0;34m,\u001b[0m \u001b[0mwallet\u001b[0m\u001b[0;34m[\u001b[0m\u001b[0mc\u001b[0m\u001b[0;34m]\u001b[0m\u001b[0;34m.\u001b[0m\u001b[0mget_balance\u001b[0m\u001b[0;34m(\u001b[0m\u001b[0;34m)\u001b[0m\u001b[0;34m)\u001b[0m\u001b[0;34m\u001b[0m\u001b[0;34m\u001b[0m\u001b[0m\n\u001b[1;32m     18\u001b[0m         \u001b[0;32mwhile\u001b[0m \u001b[0mwallet\u001b[0m\u001b[0;34m[\u001b[0m\u001b[0mc\u001b[0m\u001b[0;34m]\u001b[0m\u001b[0;34m.\u001b[0m\u001b[0mget_balance\u001b[0m\u001b[0;34m(\u001b[0m\u001b[0;34m)\u001b[0m \u001b[0;34m>\u001b[0m \u001b[0;36m100\u001b[0m\u001b[0;34m:\u001b[0m\u001b[0;34m\u001b[0m\u001b[0;34m\u001b[0m\u001b[0m\n\u001b[0;32m---> 19\u001b[0;31m             \u001b[0mwallet\u001b[0m\u001b[0;34m[\u001b[0m\u001b[0mc\u001b[0m\u001b[0;34m]\u001b[0m\u001b[0;34m.\u001b[0m\u001b[0mmake_payment\u001b[0m\u001b[0;34m(\u001b[0m\u001b[0;34m-\u001b[0m\u001b[0;36m100\u001b[0m\u001b[0;34m)\u001b[0m\u001b[0;34m\u001b[0m\u001b[0;34m\u001b[0m\u001b[0m\n\u001b[0m\u001b[1;32m     20\u001b[0m             \u001b[0mprint\u001b[0m\u001b[0;34m(\u001b[0m\u001b[0;34m'New balance = '\u001b[0m\u001b[0;34m,\u001b[0m \u001b[0mwallet\u001b[0m\u001b[0;34m[\u001b[0m\u001b[0mc\u001b[0m\u001b[0;34m]\u001b[0m\u001b[0;34m.\u001b[0m\u001b[0mget_balance\u001b[0m\u001b[0;34m(\u001b[0m\u001b[0;34m)\u001b[0m\u001b[0;34m)\u001b[0m\u001b[0;34m\u001b[0m\u001b[0;34m\u001b[0m\u001b[0m\n\u001b[1;32m     21\u001b[0m         \u001b[0mprint\u001b[0m\u001b[0;34m(\u001b[0m\u001b[0;34m)\u001b[0m\u001b[0;34m\u001b[0m\u001b[0;34m\u001b[0m\u001b[0m\n",
      "\u001b[0;32m<ipython-input-3-92a896542dc3>\u001b[0m in \u001b[0;36mmake_payment\u001b[0;34m(self, amount)\u001b[0m\n\u001b[1;32m     59\u001b[0m             \u001b[0;32mraise\u001b[0m \u001b[0mTypeError\u001b[0m\u001b[0;34m(\u001b[0m\u001b[0;34m'amount must be numeric'\u001b[0m\u001b[0;34m)\u001b[0m\u001b[0;34m\u001b[0m\u001b[0;34m\u001b[0m\u001b[0m\n\u001b[1;32m     60\u001b[0m         \u001b[0;32melif\u001b[0m \u001b[0mamount\u001b[0m \u001b[0;34m<\u001b[0m \u001b[0;36m0\u001b[0m\u001b[0;34m:\u001b[0m\u001b[0;34m\u001b[0m\u001b[0;34m\u001b[0m\u001b[0m\n\u001b[0;32m---> 61\u001b[0;31m             \u001b[0;32mraise\u001b[0m \u001b[0mValueError\u001b[0m\u001b[0;34m(\u001b[0m\u001b[0;34m'amount must be positive'\u001b[0m\u001b[0;34m)\u001b[0m\u001b[0;34m\u001b[0m\u001b[0;34m\u001b[0m\u001b[0m\n\u001b[0m\u001b[1;32m     62\u001b[0m \u001b[0;34m\u001b[0m\u001b[0m\n\u001b[1;32m     63\u001b[0m         \u001b[0mself\u001b[0m\u001b[0;34m.\u001b[0m\u001b[0m_balance\u001b[0m \u001b[0;34m-=\u001b[0m \u001b[0mamount\u001b[0m\u001b[0;34m\u001b[0m\u001b[0;34m\u001b[0m\u001b[0m\n",
      "\u001b[0;31mValueError\u001b[0m: amount must be positive"
     ]
    }
   ],
   "source": [
    "if __name__ == '__main__':\n",
    "    wallet = []\n",
    "    wallet.append(CreditCard('John Bowman', 'California Savings', '5391 0375 9387 5309', 2500))\n",
    "    wallet.append(CreditCard('John Bowman', 'California Federal', '3485 0399 3395 1954', 3500))\n",
    "    wallet.append(CreditCard('John bowman', 'California Finance', '5391 0375 9387 5309', 5000))\n",
    "    \n",
    "    for val in range(1, 17):\n",
    "        wallet[0].charge(val)\n",
    "        wallet[1].charge(2*val)\n",
    "        wallet[2].charge(3*val)\n",
    "    \n",
    "    for c in range(3):\n",
    "        print('Customer = ', wallet[c].get_customer())\n",
    "        print('Bank = ', wallet[c].get_bank())\n",
    "        print('Account = ', wallet[c].get_account())\n",
    "        print('Limit = ', wallet[c].get_limit())\n",
    "        print('Balance = ', wallet[c].get_balance())\n",
    "        while wallet[c].get_balance() > 100:\n",
    "            wallet[c].make_payment(-100)                             # -- negative number --\n",
    "            print('New balance = ', wallet[c].get_balance())\n",
    "        print()"
   ]
  },
  {
   "cell_type": "markdown",
   "metadata": {},
   "source": [
    "## R-2.7"
   ]
  },
  {
   "cell_type": "code",
   "execution_count": null,
   "metadata": {},
   "outputs": [],
   "source": [
    "def "
   ]
  }
 ],
 "metadata": {
  "kernelspec": {
   "display_name": "Python 3",
   "language": "python",
   "name": "python3"
  },
  "language_info": {
   "codemirror_mode": {
    "name": "ipython",
    "version": 3
   },
   "file_extension": ".py",
   "mimetype": "text/x-python",
   "name": "python",
   "nbconvert_exporter": "python",
   "pygments_lexer": "ipython3",
   "version": "3.7.3"
  }
 },
 "nbformat": 4,
 "nbformat_minor": 2
}
