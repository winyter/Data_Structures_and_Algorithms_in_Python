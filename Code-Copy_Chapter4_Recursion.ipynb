{
 "cells": [
  {
   "cell_type": "markdown",
   "metadata": {},
   "source": [
    "# Chapter 4  递归"
   ]
  },
  {
   "cell_type": "markdown",
   "metadata": {},
   "source": [
    "## Code 4-1\n",
    "- 阶乘函数的递归实现"
   ]
  },
  {
   "cell_type": "code",
   "execution_count": 1,
   "metadata": {},
   "outputs": [],
   "source": [
    "def factorial(n):\n",
    "    if n == 0:\n",
    "        return 1\n",
    "    else:\n",
    "        return n * factorial(n-1)"
   ]
  },
  {
   "cell_type": "markdown",
   "metadata": {},
   "source": [
    "运行时间：$O(n)$"
   ]
  },
  {
   "cell_type": "markdown",
   "metadata": {},
   "source": [
    "## Code 4-2 \n",
    "- 绘制一个标尺的函数的递归实现"
   ]
  },
  {
   "cell_type": "code",
   "execution_count": 2,
   "metadata": {},
   "outputs": [],
   "source": [
    "def draw_line(tick_length, tick_label=''):\n",
    "    \"\"\" Draw one line with given tick length (followed by optional label)\"\"\"\n",
    "    line = \"-\" * tick_length\n",
    "    if tick_label:\n",
    "        line += \" \" + tick_label\n",
    "    print(line)\n",
    "    \n",
    "def draw_interval(center_length):\n",
    "    \"\"\" draw tick interval based upon a central tick length\"\"\"\n",
    "    if center_length > 0:                          # stop while length drops to 0\n",
    "        draw_interval(center_length - 1)           # recursively draw top ticks\n",
    "        draw_line(center_length)                   # draw center tick\n",
    "        draw_interval(center_length - 1)           # recursively draw bottom ticks\n",
    "        \n",
    "def draw_ruler(num_inches, major_length):\n",
    "    \"\"\" Draw English ruler with given number of inches, major tick length. \"\"\"\n",
    "    draw_line(major_length, '0')                   # draw inch 0 line\n",
    "    for j in range(1, 1 + num_inches):\n",
    "        draw_interval(major_length - 1)            # draw interior ticks for inch\n",
    "        draw_line(major_length, str(j))            # draw inch j line and label"
   ]
  },
  {
   "cell_type": "markdown",
   "metadata": {},
   "source": [
    "运行时间：$O(2^n)$"
   ]
  },
  {
   "cell_type": "code",
   "execution_count": 3,
   "metadata": {},
   "outputs": [
    {
     "name": "stdout",
     "output_type": "stream",
     "text": [
      "--- 0\n",
      "-\n",
      "--\n",
      "-\n",
      "--- 1\n",
      "-\n",
      "--\n",
      "-\n",
      "--- 2\n",
      "-\n",
      "--\n",
      "-\n",
      "--- 3\n"
     ]
    }
   ],
   "source": [
    "draw_ruler(3, 3)"
   ]
  },
  {
   "cell_type": "markdown",
   "metadata": {},
   "source": [
    "## Code 4-3 \n",
    "- 二分查找算法的实现"
   ]
  },
  {
   "cell_type": "code",
   "execution_count": 4,
   "metadata": {},
   "outputs": [],
   "source": [
    "def binary_search(data, target, low, high):\n",
    "    \"\"\" Return True if target is found in indicated portion of a Python list.\n",
    "    \n",
    "    The search only considers the portion from data[low] to data[high] inclusive.\n",
    "    \"\"\"\n",
    "    \n",
    "    if low > high: \n",
    "        return False                                # interval is empty: no match\n",
    "    else:\n",
    "        mid = (low + high) // 2\n",
    "        if target == data[mid]:                     # found a match\n",
    "            return True\n",
    "        elif target < data[mid]:\n",
    "            # recur on the portion right of the middle\n",
    "            return binary_search(data, target, low, mid-1)\n",
    "        else:\n",
    "            # recur on the portion right of the middle\n",
    "            return binary_search(data, target, mid+1, high)"
   ]
  },
  {
   "cell_type": "markdown",
   "metadata": {},
   "source": [
    "运行时间：$O(log n)$"
   ]
  },
  {
   "cell_type": "markdown",
   "metadata": {},
   "source": [
    "## Code 4-4\n",
    "- 计算一个文件系统条目中的累计磁盘空间使用的算法（伪代码）"
   ]
  },
  {
   "cell_type": "code",
   "execution_count": 5,
   "metadata": {},
   "outputs": [
    {
     "ename": "SyntaxError",
     "evalue": "invalid syntax (<ipython-input-5-9d136e6d4012>, line 1)",
     "output_type": "error",
     "traceback": [
      "\u001b[0;36m  File \u001b[0;32m\"<ipython-input-5-9d136e6d4012>\"\u001b[0;36m, line \u001b[0;32m1\u001b[0m\n\u001b[0;31m    Algorithm DiskUsage(path):\u001b[0m\n\u001b[0m                      ^\u001b[0m\n\u001b[0;31mSyntaxError\u001b[0m\u001b[0;31m:\u001b[0m invalid syntax\n"
     ]
    }
   ],
   "source": [
    "Algorithm DiskUsage(path):\n",
    "    Input: A string designating a path to a file-system entry\n",
    "    Output: The cumulative disk space used by that entry and any nested entries\n",
    "    total = size(path)                               {immediate disk space used by the entry}\n",
    "    if path represents a directory then \n",
    "        for each child entry stored within directory path do \n",
    "            total = total + DiskUsage(child)         {recursive call}\n",
    "    return total"
   ]
  },
  {
   "cell_type": "markdown",
   "metadata": {},
   "source": [
    "## Code 4-5\n",
    "- 计算一个文件系统磁盘使用情况的递归函数"
   ]
  },
  {
   "cell_type": "code",
   "execution_count": 6,
   "metadata": {},
   "outputs": [],
   "source": [
    "import os\n",
    "\n",
    "def disk_usage(path):\n",
    "    \"\"\" Return the number of bytes used by a file/folder and any descendents. \"\"\"\n",
    "    total = os.path.getsize(path)               # account for direct usage\n",
    "    if os.path.isdir(path):                     # if this is a directory\n",
    "        for filename in os.listdir(path):       # then for each child\n",
    "            childpath = os.path.join(path, filename)   # compose full path to child\n",
    "            total += disk_usage(childpath)      # add child's usage to total\n",
    "            \n",
    "    print('{0:<7}'.format(total), path)         # descriptive output(optional)\n",
    "    return total                                # return the grand total"
   ]
  },
  {
   "cell_type": "markdown",
   "metadata": {},
   "source": [
    "运行时间：$O(n)$\n",
    "\n",
    "实质上，文件系统的递归是树遍历，而在做算法分析时，不需要用最悲观的方式去确定该算法的运行时间为$O(n^2)$，运用“分期偿还”的思想，从而给出更强的约束"
   ]
  },
  {
   "cell_type": "code",
   "execution_count": 7,
   "metadata": {},
   "outputs": [
    {
     "name": "stdout",
     "output_type": "stream",
     "text": [
      "6148    /Users/winyter/repository/test_script/.DS_Store\n",
      "6148    /Users/winyter/repository/test_script/check_script/.DS_Store\n",
      "18846   /Users/winyter/repository/test_script/check_script/bin/V2.1.py\n",
      "18942   /Users/winyter/repository/test_script/check_script/bin\n",
      "575     /Users/winyter/repository/test_script/check_script/etc/data_protocol.cfg\n",
      "1468    /Users/winyter/repository/test_script/check_script/etc/config.cfg\n",
      "2171    /Users/winyter/repository/test_script/check_script/etc\n",
      "12459   /Users/winyter/repository/test_script/check_script/log/dailyreport-20190724.log\n",
      "12459   /Users/winyter/repository/test_script/check_script/log/dailyreport-2019-07-25.log\n",
      "11816   /Users/winyter/repository/test_script/check_script/log/dailyreport-20190801.log\n",
      "16384   /Users/winyter/repository/test_script/check_script/log/.dailyreport-2019-07-05.log.swp\n",
      "15472   /Users/winyter/repository/test_script/check_script/log/excute_log.log\n",
      "13198   /Users/winyter/repository/test_script/check_script/log/dailyreport-20190728.log\n",
      "12496   /Users/winyter/repository/test_script/check_script/log/dailyreport-20190729.log\n",
      "94572   /Users/winyter/repository/test_script/check_script/log\n",
      "57      /Users/winyter/repository/test_script/check_script/start.sh\n",
      "122114  /Users/winyter/repository/test_script/check_script\n",
      "183     /Users/winyter/repository/test_script/.idea/vcs.xml\n",
      "10520   /Users/winyter/repository/test_script/.idea/workspace.xml\n",
      "274     /Users/winyter/repository/test_script/.idea/modules.xml\n",
      "453     /Users/winyter/repository/test_script/.idea/test_script.iml\n",
      "7643    /Users/winyter/repository/test_script/.idea/misc.xml\n",
      "19297   /Users/winyter/repository/test_script/.idea\n",
      "147719  /Users/winyter/repository/test_script\n"
     ]
    },
    {
     "data": {
      "text/plain": [
       "147719"
      ]
     },
     "execution_count": 7,
     "metadata": {},
     "output_type": "execute_result"
    }
   ],
   "source": [
    "disk_usage(\"/Users/winyter/repository/test_script\")"
   ]
  },
  {
   "cell_type": "code",
   "execution_count": null,
   "metadata": {},
   "outputs": [],
   "source": []
  },
  {
   "cell_type": "markdown",
   "metadata": {},
   "source": [
    "### Code 4-6 元素唯一性 unique3"
   ]
  },
  {
   "cell_type": "code",
   "execution_count": 8,
   "metadata": {},
   "outputs": [],
   "source": [
    "def unique3(S, start, stop):\n",
    "    \"\"\" Return True if thereare no duplicate elements in slice S[start, stop]\"\"\"\n",
    "    if stop - start <= 1: return True        # at most one items\n",
    "    elif not unique3(S, start, stop-1): return False   # first part has duplicate\n",
    "    elif not unique3(S, start+1, stop): return False   # second part has duplicate\n",
    "    else: return S[start] != S[stop-1]       # do first and last differ?"
   ]
  },
  {
   "cell_type": "markdown",
   "metadata": {},
   "source": [
    "运行时间：$O(2^n)$"
   ]
  },
  {
   "cell_type": "markdown",
   "metadata": {},
   "source": [
    "### Code 4-7 使用二分递归计算第 n 个斐波那契数列"
   ]
  },
  {
   "cell_type": "code",
   "execution_count": 9,
   "metadata": {},
   "outputs": [],
   "source": [
    "def bad_fibonacci(n):\n",
    "    \"\"\"Return the nth Fibonacci number.\"\"\"\n",
    "    if n <= 1:\n",
    "        return n\n",
    "    else:\n",
    "        return bad_fibonacci(n-2) + bad_fibonacci(n-1)"
   ]
  },
  {
   "cell_type": "markdown",
   "metadata": {},
   "source": [
    "运行时间：$Ω(2^{n/2})$"
   ]
  },
  {
   "cell_type": "markdown",
   "metadata": {},
   "source": [
    "### Code 4-8 使用线性递归计算第 n 个斐波那契数列"
   ]
  },
  {
   "cell_type": "code",
   "execution_count": 10,
   "metadata": {},
   "outputs": [],
   "source": [
    "def good_fibonacci(n):\n",
    "    \"\"\"Return pair of Fibonacci number, F(n) and F(n-1).\"\"\"\n",
    "    if n <= 1:\n",
    "        return (n, 0)\n",
    "    else:\n",
    "        (a, b) = good_fibonacci(n-1)\n",
    "        return (a+b, a)"
   ]
  },
  {
   "cell_type": "markdown",
   "metadata": {},
   "source": [
    "运行时间：$O(n)$"
   ]
  },
  {
   "cell_type": "markdown",
   "metadata": {},
   "source": [
    "### 修改递归深度"
   ]
  },
  {
   "cell_type": "code",
   "execution_count": 12,
   "metadata": {},
   "outputs": [
    {
     "name": "stdout",
     "output_type": "stream",
     "text": [
      "1000\n"
     ]
    }
   ],
   "source": [
    "import sys\n",
    "old = sys.getrecursionlimit()   # perhaps 1000 is typical\n",
    "sys.setrecursionlimit(1000)     # change to allow 1 thousand nested calls\n",
    "print(old)"
   ]
  },
  {
   "cell_type": "markdown",
   "metadata": {},
   "source": [
    "### Code 4-9 使用线性递归计算序列元素的和"
   ]
  },
  {
   "cell_type": "code",
   "execution_count": 14,
   "metadata": {},
   "outputs": [],
   "source": [
    "def linear_sum(S, n):\n",
    "    \"\"\" Return the sum of the first n numbers of sequence S. \"\"\"\n",
    "    if n == 0:\n",
    "        return 0\n",
    "    else:\n",
    "        return linear_sum(S, n-1) + S[n-1]"
   ]
  },
  {
   "cell_type": "markdown",
   "metadata": {},
   "source": [
    "### Code 4-10 使用线性递归逆置序列的元素"
   ]
  },
  {
   "cell_type": "code",
   "execution_count": 17,
   "metadata": {},
   "outputs": [],
   "source": [
    "def reverse(S, start, stop):\n",
    "    \"\"\" Reverse elements in implicit slice S[start, stop]\"\"\"\n",
    "    if start < stop - 1:            # if at least 2 elements:\n",
    "        S[start], S[stop-1] = S[stop-1], S[start]    # swap first and last\n",
    "        reverse(S, start+1, stop-1)                  # recur on rest"
   ]
  },
  {
   "cell_type": "markdown",
   "metadata": {},
   "source": [
    "### Code 4-11 用简单的递归计算幂函数"
   ]
  },
  {
   "cell_type": "markdown",
   "metadata": {},
   "source": [
    "基于以下公式：\n",
    "$$ power(x, n) = \\begin{cases}\n",
    "    1 & n=0 \\\\\n",
    "    {x \\cdot {power(x, n-1)}} & \\mbox{其他}\n",
    "    \\end{cases} $$"
   ]
  },
  {
   "cell_type": "code",
   "execution_count": 21,
   "metadata": {},
   "outputs": [],
   "source": [
    "def power(x, n):\n",
    "    \"\"\"Compute the value x**n for integer n.\"\"\"\n",
    "    if n == 0:\n",
    "        return 1\n",
    "    else:\n",
    "        return x * power(x, n-1)"
   ]
  },
  {
   "cell_type": "markdown",
   "metadata": {},
   "source": [
    "运行时间：$ O(n) $"
   ]
  },
  {
   "cell_type": "markdown",
   "metadata": {},
   "source": [
    "### Code 4-12 使用重复的平方计算幂函数"
   ]
  },
  {
   "cell_type": "markdown",
   "metadata": {},
   "source": [
    "基于以下公式：\n",
    "$$ Power(x, n) = \\begin{cases}\n",
    "    1 & n=0 \\\\\n",
    "    {x \\cdot {\\Big( power {(x, \\lfloor \\frac{n}{2} \\rfloor \\big)}\\Big)} ^2} & {\\mbox{n>0是奇数}} \\\\\n",
    "    {\\Big( power {(x, \\lfloor \\frac{n}{2} \\rfloor \\big)}\\Big)} ^2 & {\\mbox{n>0是偶数}} \n",
    "    \\end{cases} $$\n",
    "   \n",
    "详细原理见书"
   ]
  },
  {
   "cell_type": "code",
   "execution_count": 20,
   "metadata": {},
   "outputs": [],
   "source": [
    "def power(x, n):\n",
    "    \"\"\" Compute the value x**n for integer n. \"\"\"\n",
    "    if n == 0:\n",
    "        return 1\n",
    "    else:\n",
    "        partial = power(x, n//2)            # rely on truncated division\n",
    "        result = partial * partial\n",
    "        if n % 2 == 1:                      # if n odd, include extra factor of x\n",
    "            result *= x\n",
    "        return result"
   ]
  },
  {
   "cell_type": "markdown",
   "metadata": {},
   "source": [
    "运行时间：$ O(logn) $"
   ]
  },
  {
   "cell_type": "code",
   "execution_count": null,
   "metadata": {},
   "outputs": [],
   "source": []
  }
 ],
 "metadata": {
  "kernelspec": {
   "display_name": "Python 3",
   "language": "python",
   "name": "python3"
  },
  "language_info": {
   "codemirror_mode": {
    "name": "ipython",
    "version": 3
   },
   "file_extension": ".py",
   "mimetype": "text/x-python",
   "name": "python",
   "nbconvert_exporter": "python",
   "pygments_lexer": "ipython3",
   "version": "3.7.4"
  }
 },
 "nbformat": 4,
 "nbformat_minor": 2
}
